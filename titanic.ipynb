# Import libraries
import pandas as pd
import numpy as np
import seaborn as sns
import matplotlib.pyplot as plt
# Load data
df = pd.read_csv('titanic.csv')

# Check for missing values
missing_values = df.isnull().sum()
 
# Drop columns with high missing values
df = df.drop(columns=['Cabin', 'PassengerId', 'Ticket'])

# Impute missing values for 'Age' and 'Embarked' columns
df['Age'] = df['Age'].fillna(df['Age'].mean())
df['Embarked'] = df['Embarked'].fillna(df['Embarked'].mode()[0])

# Check for duplicates
duplicates = df.duplicated().sum()

# Drop duplicates
df = df.drop_duplicates()

# Analyze numerical variables
df.describe()

# Analyze categorical variables
df['Sex'].value_counts()
df['Embarked'].value_counts()

# Visualize relationships between variables
import matplotlib.pyplot as plt

plt.scatter(df['Age'], df['Fare'])
plt.xlabel('Age')
plt.ylabel('Fare')
plt.show()

# Calculate correlation between variables
df.corr()

# Create a model to predict passenger survival
from sklearn.linear_model import LogisticRegression

model = LogisticRegression()

features = ['Pclass', 'Sex', 'Age', 'Fare']
target = 'Survived'

model.fit(df[features], df[target])

# Evaluate the model
from sklearn.metrics import accuracy_score

predictions = model.predict(df[features])
accuracy = accuracy_score(df[target], predictions)

print(f'Accuracy: {accuracy:.2f}')
